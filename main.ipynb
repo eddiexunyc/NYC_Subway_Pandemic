{
 "cells": [
  {
   "cell_type": "code",
   "execution_count": 3,
   "metadata": {},
   "outputs": [],
   "source": [
    "import pandas as pd\n",
    "import numpy as np\n",
    "import matplotlib.pyplot as plt\n",
    "\n",
    "covid_data = \"Resources/CovidNumbers.csv\"\n",
    "March_2019_turnstile = \"Resources/Turnstile_190330.csv\"\n",
    "March_2020_turnstile = \"Resources/Turnstile_200328.csv\"\n",
    "June_2019_turnstile = \"Resources/Turnstile_190629.csv\"\n",
    "June_2020_turnstile = \"Resources/Turnstile_200627.csv\"\n",
    "\n",
    "March_2019_turnstile_days = \"Resources/Turnstile_days_190330.csv\"\n",
    "March_2020_turnstile_days = \"Resources/Turnstile_days_200328.csv\"\n",
    "June_2019_turnstile_days = \"Resources/Turnstile_days_190629.csv\"\n",
    "June_2020_turnstile_days = \"Resources/Turnstile_days_200627.csv\""
   ]
  },
  {
   "cell_type": "code",
   "execution_count": null,
   "metadata": {},
   "outputs": [],
   "source": [
    "#data-by-modzcta.csv\n",
    "#This file contains data by modified ZIP code tabulation areas (ZCTA). \n",
    "#This unit of geography is similar to ZIP codes but combines census blocks with smaller populations to allow more stable estimates of population size for rate calculation. \n",
    "#Please see description of modified ZCTAs in the technical notes section (Geography: Zip codes and ZCTAs).\n",
    "#data as of 9/25/20\n",
    "\n",
    "covid_pd = pd.read_csv(covid_data, header = 8)\n",
    "\n",
    "covid_pd.head()"
   ]
  },
  {
   "cell_type": "code",
   "execution_count": null,
   "metadata": {},
   "outputs": [],
   "source": [
    "#rename the column\n",
    "covid_clean_df = covid_pd.rename(columns = {\"\\outl0\\strokewidth0 \\strokec2 MODIFIED_ZCTA\": \"Modified_ZCTA\"})\n",
    "covid_clean_df.head()"
   ]
  },
  {
   "cell_type": "code",
   "execution_count": null,
   "metadata": {},
   "outputs": [],
   "source": [
    "#covid case rate\n",
    "columns_to_extract = [\"Modified_ZCTA\", \"NEIGHBORHOOD_NAME\", \"BOROUGH_GROUP\", \"COVID_CASE_RATE\"]\n",
    "covid_case_rate = pd.DataFrame(covid_clean_df, columns = columns_to_extract)\n",
    "\n",
    "covid_case_rate.shape"
   ]
  },
  {
   "cell_type": "code",
   "execution_count": null,
   "metadata": {},
   "outputs": [],
   "source": [
    "covid_case_rate.head()"
   ]
  },
  {
   "cell_type": "code",
   "execution_count": null,
   "metadata": {},
   "outputs": [],
   "source": [
    "covid_case_rate = covid_case_rate.sort_values(by=[\"COVID_CASE_RATE\"], ascending = False)\n",
    "\n",
    "covid_case_rate.head()"
   ]
  },
  {
   "cell_type": "code",
   "execution_count": null,
   "metadata": {},
   "outputs": [],
   "source": [
    "covid_case_max = covid_case_rate.nlargest(4, \"COVID_CASE_RATE\")\n",
    "\n",
    "print(covid_case_max.shape)\n",
    "\n",
    "covid_case_max.head()"
   ]
  },
  {
   "cell_type": "code",
   "execution_count": null,
   "metadata": {},
   "outputs": [],
   "source": [
    "covid_case_min = covid_case_rate.nsmallest(4, \"COVID_CASE_RATE\")\n",
    "print(covid_case_min.shape)\n",
    "\n",
    "covid_case_min.head()"
   ]
  },
  {
   "cell_type": "code",
   "execution_count": null,
   "metadata": {},
   "outputs": [],
   "source": [
    "#swap in csvs with days of week for ones with num dates - subsequent code should work normally\n",
    "march_2019_data = pd.read_csv(March_2019_turnstile_days, header = 9)\n",
    "march_2019_data.head()"
   ]
  },
  {
   "cell_type": "code",
   "execution_count": null,
   "metadata": {},
   "outputs": [],
   "source": [
    "#swap in csvs with days of week for ones with num dates - subsequent code should work normally\n",
    "march_2020_data = pd.read_csv(March_2020_turnstile_days, header = 9)\n",
    "march_2020_data.head()"
   ]
  },
  {
   "cell_type": "code",
   "execution_count": null,
   "metadata": {},
   "outputs": [],
   "source": [
    "march_2019_data.columns\n",
    "mar_2019 = march_2019_data.columns[-1]\n",
    "march_2019_data = march_2019_data.rename(columns = {mar_2019: \"EXIT\"})\n",
    "columns_to_use = ['SCP', 'STATION','LINENAME', 'DATE', 'TIME', 'DESC', 'ENTRIES','EXIT']\n",
    "march_2019_df = pd.DataFrame(march_2019_data, columns = columns_to_use)\n",
    "\n",
    "march_2019_df.head()"
   ]
  },
  {
   "cell_type": "code",
   "execution_count": null,
   "metadata": {},
   "outputs": [],
   "source": [
    "newdf_2019 = march_2019_df.loc[(march_2019_df[\"STATION\"] == \"E 180 ST\") | \n",
    "                          (march_2019_df[\"STATION\"] == \"86 ST\") | \n",
    "                          (march_2019_df[\"STATION\"] == \"96 ST\") | \n",
    "                          (march_2019_df[\"STATION\"] == \"CHAMBERS ST\") |\n",
    "                             (march_2019_df[\"STATION\"] == \"ATL AV-BARCLAY\") |\n",
    "                             (march_2019_df[\"STATION\"] == \"W 4 ST-WASH SQ\") |\n",
    "                              (march_2019_df[\"STATION\"] == \"BROADWAY JCT\") |\n",
    "                               (march_2019_df[\"STATION\"] == \"JKSN HT-ROOSVLT\") |\n",
    "                                (march_2019_df[\"STATION\"] == \"WORLD TRADE CTR\") |\n",
    "                                 (march_2019_df[\"STATION\"] == \"QUEENSBORO PLZ\")]\n",
    "newdf_2019"
   ]
  },
  {
   "cell_type": "code",
   "execution_count": null,
   "metadata": {},
   "outputs": [],
   "source": [
    "march_2020_data.columns\n",
    "mar_2020 = march_2020_data.columns[-1]\n",
    "march_2020_data = march_2020_data.rename(columns = {mar_2020: \"EXIT\"})\n",
    "columns_to_use = ['SCP', 'STATION','LINENAME', 'DATE', 'TIME', 'DESC', 'ENTRIES','EXIT']\n",
    "march_2020_df = pd.DataFrame(march_2020_data, columns = columns_to_use)\n",
    "\n",
    "march_2020_df.head()"
   ]
  },
  {
   "cell_type": "code",
   "execution_count": null,
   "metadata": {},
   "outputs": [],
   "source": [
    "newdf_2020 = march_2020_df.loc[(march_2020_df[\"STATION\"] == \"E 180 ST\") | \n",
    "                          (march_2020_df[\"STATION\"] == \"86 ST\") | \n",
    "                          (march_2020_df[\"STATION\"] == \"96 ST\") | \n",
    "                          (march_2020_df[\"STATION\"] == \"CHAMBERS ST\") |\n",
    "                             (march_2020_df[\"STATION\"] == \"ATL AV-BARCLAY\") |\n",
    "                             (march_2020_df[\"STATION\"] == \"W 4 ST-WASH SQ\") |\n",
    "                              (march_2020_df[\"STATION\"] == \"BROADWAY JCT\") |\n",
    "                               (march_2020_df[\"STATION\"] == \"JKSN HT-ROOSVLT\") |\n",
    "                                (march_2020_df[\"STATION\"] == \"WORLD TRADE CTR\") |\n",
    "                                 (march_2020_df[\"STATION\"] == \"QUEENSBORO PLZ\")]\n",
    "newdf_2020\n"
   ]
  },
  {
   "cell_type": "code",
   "execution_count": null,
   "metadata": {},
   "outputs": [],
   "source": [
    "march_2019_max = newdf_2019.groupby([\"STATION\", \"LINENAME\",\"SCP\"]).max()\n",
    "\n",
    "march_2019_max"
   ]
  },
  {
   "cell_type": "code",
   "execution_count": null,
   "metadata": {},
   "outputs": [],
   "source": [
    "march_2020_max = newdf_2020.groupby([\"STATION\", \"LINENAME\", \"SCP\"]).max()\n",
    "\n",
    "march_2020_max"
   ]
  },
  {
   "cell_type": "code",
   "execution_count": null,
   "metadata": {},
   "outputs": [],
   "source": [
    "march_2019_min = newdf_2019.groupby([\"STATION\", \"LINENAME\", \"SCP\"]).min()\n",
    "\n",
    "march_2019_min"
   ]
  },
  {
   "cell_type": "code",
   "execution_count": null,
   "metadata": {},
   "outputs": [],
   "source": [
    "march_2020_min = newdf_2020.groupby([\"STATION\", \"LINENAME\", \"SCP\"]).min()\n",
    "\n",
    "march_2020_min"
   ]
  },
  {
   "cell_type": "code",
   "execution_count": null,
   "metadata": {},
   "outputs": [],
   "source": [
    "march_2019_merge = pd.merge(march_2019_max, march_2019_min, on = [\"STATION\", \"LINENAME\", \"SCP\"], how = \"left\")\n",
    "\n",
    "march_2019_merge"
   ]
  },
  {
   "cell_type": "code",
   "execution_count": null,
   "metadata": {},
   "outputs": [],
   "source": [
    "march_2020_merge = pd.merge(march_2020_max, march_2020_min, on = [\"STATION\", \"SCP\"], how = \"left\")\n",
    "\n",
    "march_2020_merge"
   ]
  },
  {
   "cell_type": "code",
   "execution_count": null,
   "metadata": {
    "scrolled": false
   },
   "outputs": [],
   "source": [
    "march_2019_merge[\"ENTRIES CHANGE\"] = march_2019_merge[\"ENTRIES_x\"] - march_2019_merge[\"ENTRIES_y\"]\n",
    "march_2019_merge = march_2019_merge.reset_index()\n",
    "march_2019_merge.head(10)"
   ]
  },
  {
   "cell_type": "code",
   "execution_count": null,
   "metadata": {},
   "outputs": [],
   "source": [
    "march_2020_merge[\"ENTRIES CHANGE\"] = march_2020_merge[\"ENTRIES_x\"] - march_2020_merge[\"ENTRIES_y\"]\n",
    "march_2020_merge = march_2020_merge.reset_index()\n",
    "march_2020_merge.head(10)"
   ]
  },
  {
   "cell_type": "code",
   "execution_count": null,
   "metadata": {},
   "outputs": [],
   "source": [
    "columns_to_use = ['STATION','ENTRIES CHANGE']\n",
    "march_2019_entries = pd.DataFrame(march_2019_merge, columns = columns_to_use)\n",
    "march_2019_entries"
   ]
  },
  {
   "cell_type": "code",
   "execution_count": null,
   "metadata": {},
   "outputs": [],
   "source": [
    "columns_to_use = ['STATION','ENTRIES CHANGE']\n",
    "march_2020_entries = pd.DataFrame(march_2020_merge, columns = columns_to_use)\n",
    "march_2020_entries"
   ]
  },
  {
   "cell_type": "code",
   "execution_count": null,
   "metadata": {},
   "outputs": [],
   "source": [
    "station_change = march_2019_entries.groupby([\"STATION\"]).sum()[\"ENTRIES CHANGE\"].rename(\"TOTAL ENTRIES\")\n",
    "change_2019df = pd.DataFrame(station_change)\n",
    "change_2019df['TOTAL ENTRIES'] = change_2019df['TOTAL ENTRIES'].astype('int64')\n",
    "change_2019df\n",
    "\n",
    "#total_count_df = march_2019_entries.groupby([\"STATION\"])\n",
    "\n",
    "#total_count = total_count_df[\"ENTRIES CHANGE\"].sum()\n",
    "\n",
    "#total_count"
   ]
  },
  {
   "cell_type": "code",
   "execution_count": null,
   "metadata": {},
   "outputs": [],
   "source": [
    "station_change = march_2020_entries.groupby([\"STATION\"]).sum()[\"ENTRIES CHANGE\"].rename(\"TOTAL ENTRIES\")\n",
    "change_2020df = pd.DataFrame(station_change)\n",
    "change_2020df['TOTAL ENTRIES'] = change_2020df['TOTAL ENTRIES'].astype('int64')\n",
    "change_2020df"
   ]
  },
  {
   "cell_type": "code",
   "execution_count": null,
   "metadata": {},
   "outputs": [],
   "source": [
    "total_2019 = change_2019df[\"TOTAL ENTRIES\"].sum()\n",
    "total_2020 = change_2020df[\"TOTAL ENTRIES\"].sum()\n",
    "\n",
    "march_ridership = pd.DataFrame({\"2019\": [total_2019], \"2020\": [total_2020]})\n",
    "march_ridership['2019'] = march_ridership['2019'].astype('int64')\n",
    "march_ridership['2020'] = march_ridership['2020'].astype('int64')\n",
    "\n",
    "march_ridership.head()"
   ]
  },
  {
   "cell_type": "code",
   "execution_count": null,
   "metadata": {},
   "outputs": [],
   "source": [
    "march_chart = march_ridership.plot(kind =\"bar\", title = \"Ridership in March in 2019 and 2020\")\n"
   ]
  },
  {
   "cell_type": "code",
   "execution_count": null,
   "metadata": {},
   "outputs": [],
   "source": [
    "march_change = pd.merge(change_2019df, change_2020df, on = \"STATION\", how = \"outer\")\n",
    "\n",
    "march_change"
   ]
  },
  {
   "cell_type": "code",
   "execution_count": null,
   "metadata": {},
   "outputs": [],
   "source": [
    "march_change = march_change.rename(columns = {\"TOTAL ENTRIES_x\": \"Total Entries (2019)\", \"TOTAL ENTRIES_y\": \"Total Entries (2020)\"})\n",
    "\n",
    "march_change[\"Percent Change (%)\"] = round((march_change[\"Total Entries (2020)\"] - march_change[\"Total Entries (2019)\"])/march_change[\"Total Entries (2019)\"] * 100, 2)\n",
    "\n",
    "#march_change['Total Entries (2019)'] = march_change['Total Entries (2019)'].astype('int64')\n",
    "#march_change['Total Entries (2020)'] = march_change['Total Entries (2020)'].astype('int64')\n",
    "march_change[\"Percent Change (%)\"] = march_change[\"Percent Change (%)\"].map(\"{:.2f}%\".format)\n",
    "\n",
    "march_change"
   ]
  },
  {
   "cell_type": "code",
   "execution_count": null,
   "metadata": {},
   "outputs": [],
   "source": [
    "march_change2 = march_change.sort_values(by=[\"Percent Change (%)\"])\n",
    "#24352950 - 58450497 = -34,097,547\n",
    "march_change2"
   ]
  },
  {
   "cell_type": "code",
   "execution_count": null,
   "metadata": {},
   "outputs": [],
   "source": [
    "station_to_find = \"BROADWAY JCT\"\n",
    "march_change = march_change.reset_index()\n",
    "\n",
    "broadway_jct_df = march_change.loc[march_change[\"STATION\"] == station_to_find]\n",
    "\n",
    "station_chart = broadway_jct_df.plot(kind = \"bar\", title = \"Ridership in Broadway Junction\")"
   ]
  },
  {
   "cell_type": "code",
   "execution_count": null,
   "metadata": {},
   "outputs": [],
   "source": [
    "station_to_find = \"JKSN HT-ROOSVLT\"\n",
    "jksn_roosvlt_df = march_change.loc[march_change[\"STATION\"] == station_to_find]\n",
    "\n",
    "station_chart = jksn_roosvlt_df.plot(kind = \"bar\", title = \"Ridership in Jackson Height Roosevelt\")"
   ]
  },
  {
   "cell_type": "code",
   "execution_count": null,
   "metadata": {},
   "outputs": [],
   "source": [
    "station_to_find = \"E 180 ST\"\n",
    "east_180_df = march_change.loc[march_change[\"STATION\"] == station_to_find]\n",
    "\n",
    "station_chart = east_180_df.plot(kind = \"bar\", title = \"Ridership in East 180 Street\")"
   ]
  },
  {
   "cell_type": "code",
   "execution_count": null,
   "metadata": {
    "scrolled": true
   },
   "outputs": [],
   "source": [
    "weekday_2019_df = march_2019_df.groupby([\"STATION\", \"LINENAME\",\"SCP\", \"DATE\"]).max()\n",
    "\n",
    "weekday_2019_df"
   ]
  },
  {
   "cell_type": "code",
   "execution_count": null,
   "metadata": {},
   "outputs": [],
   "source": [
    "weekday_2019_df = march_2019_df.groupby([\"STATION\", \"LINENAME\",\"SCP\", \"DATE\"]).min()\n",
    "\n",
    "weekday_2019_df"
   ]
  },
  {
   "cell_type": "code",
   "execution_count": null,
   "metadata": {},
   "outputs": [],
   "source": [
    "weekday_2020_df = march_2020_df.groupby([\"STATION\", \"LINENAME\",\"SCP\", \"DATE\"]).max()\n",
    "\n",
    "weekday_2020_df"
   ]
  },
  {
   "cell_type": "code",
   "execution_count": 1,
   "metadata": {},
   "outputs": [
    {
     "ename": "NameError",
     "evalue": "name 'march_2020_df' is not defined",
     "output_type": "error",
     "traceback": [
      "\u001b[1;31m---------------------------------------------------------------------------\u001b[0m",
      "\u001b[1;31mNameError\u001b[0m                                 Traceback (most recent call last)",
      "\u001b[1;32m<ipython-input-1-2f778d617630>\u001b[0m in \u001b[0;36m<module>\u001b[1;34m\u001b[0m\n\u001b[1;32m----> 1\u001b[1;33m \u001b[0mweekday_2020_df\u001b[0m \u001b[1;33m=\u001b[0m \u001b[0mmarch_2020_df\u001b[0m\u001b[1;33m.\u001b[0m\u001b[0mgroupby\u001b[0m\u001b[1;33m(\u001b[0m\u001b[1;33m[\u001b[0m\u001b[1;34m\"STATION\"\u001b[0m\u001b[1;33m,\u001b[0m \u001b[1;34m\"LINENAME\"\u001b[0m\u001b[1;33m,\u001b[0m\u001b[1;34m\"SCP\"\u001b[0m\u001b[1;33m,\u001b[0m \u001b[1;34m\"DATE\"\u001b[0m\u001b[1;33m]\u001b[0m\u001b[1;33m)\u001b[0m\u001b[1;33m.\u001b[0m\u001b[0mmin\u001b[0m\u001b[1;33m(\u001b[0m\u001b[1;33m)\u001b[0m\u001b[1;33m\u001b[0m\u001b[1;33m\u001b[0m\u001b[0m\n\u001b[0m\u001b[0;32m      2\u001b[0m \u001b[1;33m\u001b[0m\u001b[0m\n\u001b[0;32m      3\u001b[0m \u001b[0mweekday_2020_df\u001b[0m\u001b[1;33m.\u001b[0m\u001b[0mhead\u001b[0m\u001b[1;33m(\u001b[0m\u001b[1;36m10\u001b[0m\u001b[1;33m)\u001b[0m\u001b[1;33m\u001b[0m\u001b[1;33m\u001b[0m\u001b[0m\n",
      "\u001b[1;31mNameError\u001b[0m: name 'march_2020_df' is not defined"
     ]
    }
   ],
   "source": [
    "weekday_2020_df = march_2020_df.groupby([\"STATION\", \"LINENAME\",\"SCP\", \"DATE\"]).min()\n",
    "\n",
    "weekday_2020_df.head(10)"
   ]
  },
  {
   "cell_type": "code",
   "execution_count": null,
   "metadata": {},
   "outputs": [],
   "source": [
    "station_change = march_2019_entries.groupby([\"STATION\"]).sum()[\"ENTRIES CHANGE\"].rename(\"TOTAL ENTRIES\")\n",
    "change_2019df = pd.DataFrame(station_change)\n",
    "change_2019df['TOTAL ENTRIES'] = change_2019df['TOTAL ENTRIES'].astype('int64')\n",
    "change_2019df"
   ]
  },
  {
   "cell_type": "code",
   "execution_count": 4,
   "metadata": {},
   "outputs": [
    {
     "ename": "NameError",
     "evalue": "name 'march_2019_merge' is not defined",
     "output_type": "error",
     "traceback": [
      "\u001b[1;31m---------------------------------------------------------------------------\u001b[0m",
      "\u001b[1;31mNameError\u001b[0m                                 Traceback (most recent call last)",
      "\u001b[1;32m<ipython-input-4-9211908d7725>\u001b[0m in \u001b[0;36m<module>\u001b[1;34m\u001b[0m\n\u001b[0;32m     11\u001b[0m }\n\u001b[0;32m     12\u001b[0m \u001b[1;33m\u001b[0m\u001b[0m\n\u001b[1;32m---> 13\u001b[1;33m \u001b[0mmarch_2019_dates\u001b[0m \u001b[1;33m=\u001b[0m \u001b[0mpd\u001b[0m\u001b[1;33m.\u001b[0m\u001b[0mDataFrame\u001b[0m\u001b[1;33m(\u001b[0m\u001b[0mmarch_2019_merge\u001b[0m\u001b[1;33m(\u001b[0m\u001b[1;33m[\u001b[0m\u001b[1;34m\"DATE_x\"\u001b[0m\u001b[1;33m]\u001b[0m\u001b[1;33m)\u001b[0m\u001b[1;33m)\u001b[0m\u001b[1;33m\u001b[0m\u001b[1;33m\u001b[0m\u001b[0m\n\u001b[0m\u001b[0;32m     14\u001b[0m \u001b[0mmarch_2019_dates\u001b[0m\u001b[1;33m.\u001b[0m\u001b[0mhead\u001b[0m\u001b[1;33m(\u001b[0m\u001b[1;36m10\u001b[0m\u001b[1;33m)\u001b[0m\u001b[1;33m\u001b[0m\u001b[1;33m\u001b[0m\u001b[0m\n\u001b[0;32m     15\u001b[0m \u001b[1;33m\u001b[0m\u001b[0m\n",
      "\u001b[1;31mNameError\u001b[0m: name 'march_2019_merge' is not defined"
     ]
    }
   ],
   "source": [
    "\n"
   ]
  },
  {
   "cell_type": "code",
   "execution_count": null,
   "metadata": {},
   "outputs": [],
   "source": []
  },
  {
   "cell_type": "code",
   "execution_count": null,
   "metadata": {},
   "outputs": [],
   "source": []
  }
 ],
 "metadata": {
  "kernelspec": {
   "display_name": "Python 3",
   "language": "python",
   "name": "python3"
  },
  "language_info": {
   "codemirror_mode": {
    "name": "ipython",
    "version": 3
   },
   "file_extension": ".py",
   "mimetype": "text/x-python",
   "name": "python",
   "nbconvert_exporter": "python",
   "pygments_lexer": "ipython3",
   "version": "3.8.3"
  }
 },
 "nbformat": 4,
 "nbformat_minor": 4
}
